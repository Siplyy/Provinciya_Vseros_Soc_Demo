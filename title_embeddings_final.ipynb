{
 "cells": [
  {
   "cell_type": "markdown",
   "metadata": {},
   "source": [
    "# Рассчитываем эмбеддинги для всех видео"
   ]
  },
  {
   "cell_type": "markdown",
   "metadata": {
    "id": "EG86CrNgt4w0"
   },
   "source": [
    "## Импорт необходимых библиотек"
   ]
  },
  {
   "cell_type": "code",
   "execution_count": 7,
   "metadata": {
    "execution": {
     "iopub.execute_input": "2024-09-28T23:26:48.369559Z",
     "iopub.status.busy": "2024-09-28T23:26:48.368287Z",
     "iopub.status.idle": "2024-09-28T23:26:48.383795Z",
     "shell.execute_reply": "2024-09-28T23:26:48.383004Z",
     "shell.execute_reply.started": "2024-09-28T23:26:48.369508Z"
    },
    "id": "_913POeIt1nt",
    "tags": []
   },
   "outputs": [],
   "source": [
    "from transformers import AutoTokenizer, AutoModel\n",
    "import torch\n",
    "import re\n",
    "from html import unescape\n",
    "import pandas as pd\n",
    "import numpy as np\n",
    "import torch\n",
    "import seaborn as sns\n",
    "import matplotlib.pyplot as plt\n",
    "import zipfile\n",
    "import os\n",
    "from transformers import AutoTokenizer, AutoModel\n",
    "import torch"
   ]
  },
  {
   "cell_type": "markdown",
   "metadata": {},
   "source": [
    "## Загрузка и подготовка данных"
   ]
  },
  {
   "cell_type": "markdown",
   "metadata": {
    "id": "oH056IDGuFEN"
   },
   "source": [
    "### Загрузка датасета"
   ]
  },
  {
   "cell_type": "code",
   "execution_count": 8,
   "metadata": {
    "execution": {
     "iopub.execute_input": "2024-09-28T23:26:49.171999Z",
     "iopub.status.busy": "2024-09-28T23:26:49.170771Z",
     "iopub.status.idle": "2024-09-28T23:26:50.797659Z",
     "shell.execute_reply": "2024-09-28T23:26:50.796790Z",
     "shell.execute_reply.started": "2024-09-28T23:26:49.171961Z"
    },
    "id": "pMcQs7MXuOSq",
    "tags": []
   },
   "outputs": [],
   "source": [
    "data_videoinfo = pd.read_csv('video_info_v2.csv')"
   ]
  },
  {
   "cell_type": "markdown",
   "metadata": {
    "id": "yTA7mliTuRjd"
   },
   "source": [
    "### Предобработка названий видео"
   ]
  },
  {
   "cell_type": "code",
   "execution_count": 10,
   "metadata": {
    "execution": {
     "iopub.execute_input": "2024-09-28T23:26:56.447224Z",
     "iopub.status.busy": "2024-09-28T23:26:56.446074Z",
     "iopub.status.idle": "2024-09-28T23:27:08.090367Z",
     "shell.execute_reply": "2024-09-28T23:27:08.089505Z",
     "shell.execute_reply.started": "2024-09-28T23:26:56.447159Z"
    },
    "id": "1xpH2qtCuQ20",
    "tags": []
   },
   "outputs": [
    {
     "data": {
      "text/html": [
       "<div>\n",
       "<style scoped>\n",
       "    .dataframe tbody tr th:only-of-type {\n",
       "        vertical-align: middle;\n",
       "    }\n",
       "\n",
       "    .dataframe tbody tr th {\n",
       "        vertical-align: top;\n",
       "    }\n",
       "\n",
       "    .dataframe thead th {\n",
       "        text-align: right;\n",
       "    }\n",
       "</style>\n",
       "<table border=\"1\" class=\"dataframe\">\n",
       "  <thead>\n",
       "    <tr style=\"text-align: right;\">\n",
       "      <th></th>\n",
       "      <th>rutube_video_id</th>\n",
       "      <th>title</th>\n",
       "      <th>category</th>\n",
       "      <th>duration</th>\n",
       "      <th>author_id</th>\n",
       "    </tr>\n",
       "  </thead>\n",
       "  <tbody>\n",
       "    <tr>\n",
       "      <th>0</th>\n",
       "      <td>video_185549</td>\n",
       "      <td>как собрать букет из мыльных тюльпанов силикон...</td>\n",
       "      <td>Хобби</td>\n",
       "      <td>1559160</td>\n",
       "      <td>1015054</td>\n",
       "    </tr>\n",
       "    <tr>\n",
       "      <th>1</th>\n",
       "      <td>video_111035</td>\n",
       "      <td>осторожно киберземляне 1 сезон 12 серия</td>\n",
       "      <td>Сериалы</td>\n",
       "      <td>1320007</td>\n",
       "      <td>1002180</td>\n",
       "    </tr>\n",
       "    <tr>\n",
       "      <th>2</th>\n",
       "      <td>video_476517</td>\n",
       "      <td>популярные видеоигры в lego перевод td bricks</td>\n",
       "      <td>Хобби</td>\n",
       "      <td>606145</td>\n",
       "      <td>1095337</td>\n",
       "    </tr>\n",
       "    <tr>\n",
       "      <th>3</th>\n",
       "      <td>video_157198</td>\n",
       "      <td>хороший лжец фильм 2019</td>\n",
       "      <td>Фильмы</td>\n",
       "      <td>6577440</td>\n",
       "      <td>1043618</td>\n",
       "    </tr>\n",
       "    <tr>\n",
       "      <th>4</th>\n",
       "      <td>video_289824</td>\n",
       "      <td>нашего старого гнобят повсякому</td>\n",
       "      <td>Развлечения</td>\n",
       "      <td>859493</td>\n",
       "      <td>1009535</td>\n",
       "    </tr>\n",
       "  </tbody>\n",
       "</table>\n",
       "</div>"
      ],
      "text/plain": [
       "  rutube_video_id  ... author_id\n",
       "0    video_185549  ...   1015054\n",
       "1    video_111035  ...   1002180\n",
       "2    video_476517  ...   1095337\n",
       "3    video_157198  ...   1043618\n",
       "4    video_289824  ...   1009535\n",
       "\n",
       "[5 rows x 5 columns]"
      ]
     },
     "execution_count": 10,
     "metadata": {},
     "output_type": "execute_result"
    }
   ],
   "source": [
    "import re\n",
    "from html import unescape\n",
    "def clean_text(text):\n",
    "    if isinstance(text, str):\n",
    "        clean = re.compile('<.*?>')\n",
    "        re.sub(clean, '', text)\n",
    "        text = re.sub(r'<.*?>', '', text)\n",
    "        text = re.sub(r'[✔✖️✳️✴️❗❕❓❔❕⚠️‼️⁉️🔘🔲🔳🔴🔵🔶🔷🔸🔹🔺🔻🟥🟧🟨🟩🟦🟪🟫⬛⬜️⬜️⚫⚪⚽🏀🏈⚾🎾🏐🏉🎱🎳🎮🕹️🎲🎯🎳🔧🔨⚙️⚒️🛠️⛏️⛓️⚔️🔫🧰🧲🧪🧫🧩🧠🧴🧷🧹🧻🧼🧽🧯🧰🧲🧪🧫🧩🧠🧴🧷🧹🧻🧼🧽🧯⛔✳️✨⭐🌟💫💥💦💨🕰️🕹️🗝️🗝️🔑🔒🔓🔐🔏🔎🧰🧲🧪🧫🧩🧠🧴🧷🧹🧻🧼🧽🧯⛔✳️✨⭐🌟💫💥💦💨🕰️🕹️🗝️🗝️🔑🔒🔓🔐🔏🔎🧰🧲🧪🧫🧩🧠🧴🧷🧹🧻🧼🧽🧯⛔✳️✨⭐🌟💫💥💦💨🕰️🕹️🗝️🗝️🔑🔒🔓🔐🔏🔎]' , '', text)\n",
    "        text = re.sub(r'[✔\\u200B-\\u200D\\uFEFF]', '', text)\n",
    "        text = re.sub(r'\\s+', ' ', text).strip()\n",
    "        text = re.sub(r'<.*?>', '', text)\n",
    "        text = unescape(text)\n",
    "        text = re.sub(r'[^\\w\\s]', '', text)\n",
    "        text = re.sub(r'\\s+', ' ', text).strip()\n",
    "        text = str(text)\n",
    "        return text.lower()\n",
    "data_videoinfo['title'] = data_videoinfo['title'].apply(clean_text)\n",
    "data_videoinfo.head()"
   ]
  },
  {
   "cell_type": "code",
   "execution_count": 11,
   "metadata": {
    "execution": {
     "iopub.execute_input": "2024-09-28T23:27:08.092643Z",
     "iopub.status.busy": "2024-09-28T23:27:08.091632Z",
     "iopub.status.idle": "2024-09-28T23:27:08.129587Z",
     "shell.execute_reply": "2024-09-28T23:27:08.128612Z",
     "shell.execute_reply.started": "2024-09-28T23:27:08.092602Z"
    },
    "id": "oKDYnUs7ulDp",
    "tags": []
   },
   "outputs": [
    {
     "data": {
      "text/html": [
       "<div>\n",
       "<style scoped>\n",
       "    .dataframe tbody tr th:only-of-type {\n",
       "        vertical-align: middle;\n",
       "    }\n",
       "\n",
       "    .dataframe tbody tr th {\n",
       "        vertical-align: top;\n",
       "    }\n",
       "\n",
       "    .dataframe thead th {\n",
       "        text-align: right;\n",
       "    }\n",
       "</style>\n",
       "<table border=\"1\" class=\"dataframe\">\n",
       "  <thead>\n",
       "    <tr style=\"text-align: right;\">\n",
       "      <th></th>\n",
       "      <th>rutube_video_id</th>\n",
       "      <th>title</th>\n",
       "    </tr>\n",
       "  </thead>\n",
       "  <tbody>\n",
       "    <tr>\n",
       "      <th>0</th>\n",
       "      <td>video_185549</td>\n",
       "      <td>как собрать букет из мыльных тюльпанов силикон...</td>\n",
       "    </tr>\n",
       "    <tr>\n",
       "      <th>1</th>\n",
       "      <td>video_111035</td>\n",
       "      <td>осторожно киберземляне 1 сезон 12 серия</td>\n",
       "    </tr>\n",
       "    <tr>\n",
       "      <th>2</th>\n",
       "      <td>video_476517</td>\n",
       "      <td>популярные видеоигры в lego перевод td bricks</td>\n",
       "    </tr>\n",
       "    <tr>\n",
       "      <th>3</th>\n",
       "      <td>video_157198</td>\n",
       "      <td>хороший лжец фильм 2019</td>\n",
       "    </tr>\n",
       "    <tr>\n",
       "      <th>4</th>\n",
       "      <td>video_289824</td>\n",
       "      <td>нашего старого гнобят повсякому</td>\n",
       "    </tr>\n",
       "  </tbody>\n",
       "</table>\n",
       "</div>"
      ],
      "text/plain": [
       "  rutube_video_id                                              title\n",
       "0    video_185549  как собрать букет из мыльных тюльпанов силикон...\n",
       "1    video_111035            осторожно киберземляне 1 сезон 12 серия\n",
       "2    video_476517      популярные видеоигры в lego перевод td bricks\n",
       "3    video_157198                            хороший лжец фильм 2019\n",
       "4    video_289824                    нашего старого гнобят повсякому"
      ]
     },
     "execution_count": 11,
     "metadata": {},
     "output_type": "execute_result"
    }
   ],
   "source": [
    "data_videoinfo.drop(['category', 'duration', 'author_id'], axis = 1, inplace = True)\n",
    "data_videoinfo.head()"
   ]
  },
  {
   "cell_type": "markdown",
   "metadata": {},
   "source": [
    "## Получаем эмбеддинги для наших видео"
   ]
  },
  {
   "cell_type": "markdown",
   "metadata": {
    "id": "Cy75MOhUua4W"
   },
   "source": [
    "### Использование предобученной модели tiny-RuBert для получения векторных представлений названий видеороликов"
   ]
  },
  {
   "cell_type": "code",
   "execution_count": 13,
   "metadata": {
    "execution": {
     "iopub.execute_input": "2024-09-28T23:29:08.536176Z",
     "iopub.status.busy": "2024-09-28T23:29:08.534887Z",
     "iopub.status.idle": "2024-09-28T23:29:59.570144Z",
     "shell.execute_reply": "2024-09-28T23:29:59.569126Z",
     "shell.execute_reply.started": "2024-09-28T23:29:08.536128Z"
    },
    "id": "4JYgzSXsuhpj",
    "tags": []
   },
   "outputs": [
    {
     "data": {
      "text/plain": [
       "tensor([[ 0.3401, -0.8857,  0.2989,  ...,  0.1304, -0.1277, -1.1357],\n",
       "        [ 0.4569,  0.4863,  0.0974,  ...,  1.2004,  0.9756, -0.6080],\n",
       "        [-0.5763, -0.5698, -0.0467,  ..., -0.1897,  0.5094, -0.7498],\n",
       "        ...,\n",
       "        [ 0.2508, -0.4075, -0.1583,  ...,  0.2961,  0.7759, -1.4605],\n",
       "        [-0.6975,  0.0696, -0.0055,  ..., -0.0389,  0.2224, -1.0294],\n",
       "        [ 0.3728, -0.3621, -0.7591,  ...,  0.2010,  0.4537, -1.2406]],\n",
       "       device='cuda:0')"
      ]
     },
     "execution_count": 13,
     "metadata": {},
     "output_type": "execute_result"
    }
   ],
   "source": [
    "device = torch.device(\"cuda\" if torch.cuda.is_available() else \"cpu\")\n",
    "model_name = \"cointegrated/rubert-tiny2\"\n",
    "tokenizer = AutoTokenizer.from_pretrained(model_name)\n",
    "model = AutoModel.from_pretrained(model_name).to(device)\n",
    "\n",
    "def get_embeddings(texts, batch_size=64):\n",
    "    embeddings_list = []\n",
    "    for i in range(0, len(texts), batch_size):\n",
    "        batch_texts = texts[i:i+batch_size]\n",
    "        inputs = tokenizer(batch_texts, padding=True, truncation=True, return_tensors='pt', max_length=40).to(device)\n",
    "        with torch.no_grad():\n",
    "            outputs = model(**inputs)\n",
    "        embeddings = outputs.last_hidden_state.mean(dim=1)\n",
    "        embeddings_list.append(embeddings)\n",
    "    return torch.cat(embeddings_list)\n",
    "title_embeddings = get_embeddings(list(data_videoinfo['title'].values))\n",
    "title_embeddings"
   ]
  },
  {
   "cell_type": "markdown",
   "metadata": {},
   "source": [
    "### Сохраняем итоговую таблицу с эмбеддингами"
   ]
  },
  {
   "cell_type": "code",
   "execution_count": 14,
   "metadata": {
    "execution": {
     "iopub.execute_input": "2024-09-28T23:30:19.204273Z",
     "iopub.status.busy": "2024-09-28T23:30:19.202908Z",
     "iopub.status.idle": "2024-09-28T23:30:30.384280Z",
     "shell.execute_reply": "2024-09-28T23:30:30.383249Z",
     "shell.execute_reply.started": "2024-09-28T23:30:19.204223Z"
    }
   },
   "outputs": [],
   "source": [
    "data_videoinfo['embeddings'] = title_embeddings.tolist()"
   ]
  },
  {
   "cell_type": "code",
   "execution_count": 16,
   "metadata": {
    "execution": {
     "iopub.execute_input": "2024-09-28T23:30:50.268782Z",
     "iopub.status.busy": "2024-09-28T23:30:50.267321Z",
     "iopub.status.idle": "2024-09-28T23:30:50.298705Z",
     "shell.execute_reply": "2024-09-28T23:30:50.297946Z",
     "shell.execute_reply.started": "2024-09-28T23:30:50.268731Z"
    }
   },
   "outputs": [],
   "source": [
    "data_videoinfo.drop(columns = ['title'], inplace = True)"
   ]
  },
  {
   "cell_type": "code",
   "execution_count": 17,
   "metadata": {
    "execution": {
     "iopub.execute_input": "2024-09-28T23:30:54.057121Z",
     "iopub.status.busy": "2024-09-28T23:30:54.055939Z",
     "iopub.status.idle": "2024-09-28T23:30:54.081177Z",
     "shell.execute_reply": "2024-09-28T23:30:54.080321Z",
     "shell.execute_reply.started": "2024-09-28T23:30:54.057081Z"
    }
   },
   "outputs": [
    {
     "data": {
      "text/html": [
       "<div>\n",
       "<style scoped>\n",
       "    .dataframe tbody tr th:only-of-type {\n",
       "        vertical-align: middle;\n",
       "    }\n",
       "\n",
       "    .dataframe tbody tr th {\n",
       "        vertical-align: top;\n",
       "    }\n",
       "\n",
       "    .dataframe thead th {\n",
       "        text-align: right;\n",
       "    }\n",
       "</style>\n",
       "<table border=\"1\" class=\"dataframe\">\n",
       "  <thead>\n",
       "    <tr style=\"text-align: right;\">\n",
       "      <th></th>\n",
       "      <th>rutube_video_id</th>\n",
       "      <th>embeddings</th>\n",
       "    </tr>\n",
       "  </thead>\n",
       "  <tbody>\n",
       "    <tr>\n",
       "      <th>0</th>\n",
       "      <td>video_185549</td>\n",
       "      <td>[0.34006547927856445, -0.8857478499412537, 0.2...</td>\n",
       "    </tr>\n",
       "    <tr>\n",
       "      <th>1</th>\n",
       "      <td>video_111035</td>\n",
       "      <td>[0.45694699883461, 0.48634690046310425, 0.0973...</td>\n",
       "    </tr>\n",
       "    <tr>\n",
       "      <th>2</th>\n",
       "      <td>video_476517</td>\n",
       "      <td>[-0.576312780380249, -0.5698351860046387, -0.0...</td>\n",
       "    </tr>\n",
       "    <tr>\n",
       "      <th>3</th>\n",
       "      <td>video_157198</td>\n",
       "      <td>[-0.5488875508308411, -0.25806984305381775, -0...</td>\n",
       "    </tr>\n",
       "    <tr>\n",
       "      <th>4</th>\n",
       "      <td>video_289824</td>\n",
       "      <td>[0.2059473991394043, -0.5128248333930969, 0.07...</td>\n",
       "    </tr>\n",
       "  </tbody>\n",
       "</table>\n",
       "</div>"
      ],
      "text/plain": [
       "  rutube_video_id                                         embeddings\n",
       "0    video_185549  [0.34006547927856445, -0.8857478499412537, 0.2...\n",
       "1    video_111035  [0.45694699883461, 0.48634690046310425, 0.0973...\n",
       "2    video_476517  [-0.576312780380249, -0.5698351860046387, -0.0...\n",
       "3    video_157198  [-0.5488875508308411, -0.25806984305381775, -0...\n",
       "4    video_289824  [0.2059473991394043, -0.5128248333930969, 0.07..."
      ]
     },
     "execution_count": 17,
     "metadata": {},
     "output_type": "execute_result"
    }
   ],
   "source": [
    "data_videoinfo.head()"
   ]
  },
  {
   "cell_type": "code",
   "execution_count": null,
   "metadata": {
    "execution": {
     "iopub.execute_input": "2024-09-28T23:32:07.225507Z",
     "iopub.status.busy": "2024-09-28T23:32:07.224036Z"
    }
   },
   "outputs": [],
   "source": [
    "data_videoinfo.to_csv('all_emb_tiny.csv')"
   ]
  }
 ],
 "metadata": {
  "colab": {
   "provenance": []
  },
  "kernelspec": {
   "display_name": "DataSphere Kernel",
   "language": "python",
   "name": "python3"
  },
  "language_info": {
   "codemirror_mode": {
    "name": "ipython",
    "version": 3
   },
   "file_extension": ".py",
   "mimetype": "text/x-python",
   "name": "python",
   "nbconvert_exporter": "python",
   "pygments_lexer": "ipython3",
   "version": "3.10.12"
  }
 },
 "nbformat": 4,
 "nbformat_minor": 4
}
