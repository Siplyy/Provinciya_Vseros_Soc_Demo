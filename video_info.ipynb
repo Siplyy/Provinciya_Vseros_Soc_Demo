{
 "cells": [
  {
   "cell_type": "markdown",
   "id": "e3adbb3c-6b24-4763-981f-325a51224def",
   "metadata": {},
   "source": [
    "# Создаем таблицу с информацией о видео на платформе"
   ]
  },
  {
   "cell_type": "markdown",
   "id": "034425fb-6c9d-400d-bedb-445080ede7e4",
   "metadata": {},
   "source": [
    "## Импорт необходимых библиотек"
   ]
  },
  {
   "cell_type": "code",
   "execution_count": 1,
   "id": "615a63a1-b4dd-4d62-9b37-2fb02cb3149a",
   "metadata": {
    "execution": {
     "iopub.execute_input": "2024-09-28T23:25:24.342691Z",
     "iopub.status.busy": "2024-09-28T23:25:24.342027Z",
     "iopub.status.idle": "2024-09-28T23:25:24.420247Z",
     "shell.execute_reply": "2024-09-28T23:25:24.419671Z",
     "shell.execute_reply.started": "2024-09-28T23:25:24.342661Z"
    }
   },
   "outputs": [],
   "source": [
    "import pandas as pd\n",
    "import numpy as np\n",
    "from sklearn.metrics.pairwise import cosine_similarity"
   ]
  },
  {
   "cell_type": "markdown",
   "id": "b7627bfd-1d3a-48ef-a66b-13dce6c85f29",
   "metadata": {},
   "source": [
    "## Подготавливаем базовую таблицу"
   ]
  },
  {
   "cell_type": "markdown",
   "id": "7e4c715e-8dc2-429d-b23a-65fbebc46d25",
   "metadata": {},
   "source": [
    "### Загружаем все необходимые таблицы"
   ]
  },
  {
   "cell_type": "code",
   "execution_count": 2,
   "id": "3a0d7e88-7526-49ad-ab04-0c44bebf3445",
   "metadata": {
    "execution": {
     "iopub.execute_input": "2024-09-28T23:25:30.579693Z",
     "iopub.status.busy": "2024-09-28T23:25:30.578719Z",
     "iopub.status.idle": "2024-09-28T23:25:46.782091Z",
     "shell.execute_reply": "2024-09-28T23:25:46.781082Z",
     "shell.execute_reply.started": "2024-09-28T23:25:30.579667Z"
    }
   },
   "outputs": [],
   "source": [
    "df_all = pd.read_csv('all_events.csv')"
   ]
  },
  {
   "cell_type": "code",
   "execution_count": 5,
   "id": "984ff85e-4e15-4d25-91ab-f4508c165a62",
   "metadata": {
    "execution": {
     "iopub.execute_input": "2024-09-28T23:25:52.806205Z",
     "iopub.status.busy": "2024-09-28T23:25:52.805519Z",
     "iopub.status.idle": "2024-09-28T23:25:55.105250Z",
     "shell.execute_reply": "2024-09-28T23:25:55.104562Z",
     "shell.execute_reply.started": "2024-09-28T23:25:52.806178Z"
    },
    "tags": []
   },
   "outputs": [],
   "source": [
    "df_train = pd.read_csv('train_events.csv')"
   ]
  },
  {
   "cell_type": "code",
   "execution_count": 6,
   "id": "8b8dd7b9-66a8-45a3-a41c-53a89b2fb6b2",
   "metadata": {
    "execution": {
     "iopub.execute_input": "2024-09-28T23:25:55.106871Z",
     "iopub.status.busy": "2024-09-28T23:25:55.106338Z",
     "iopub.status.idle": "2024-09-28T23:25:55.150268Z",
     "shell.execute_reply": "2024-09-28T23:25:55.149619Z",
     "shell.execute_reply.started": "2024-09-28T23:25:55.106841Z"
    },
    "tags": []
   },
   "outputs": [
    {
     "data": {
      "text/html": [
       "<div>\n",
       "<style scoped>\n",
       "    .dataframe tbody tr th:only-of-type {\n",
       "        vertical-align: middle;\n",
       "    }\n",
       "\n",
       "    .dataframe tbody tr th {\n",
       "        vertical-align: top;\n",
       "    }\n",
       "\n",
       "    .dataframe thead th {\n",
       "        text-align: right;\n",
       "    }\n",
       "</style>\n",
       "<table border=\"1\" class=\"dataframe\">\n",
       "  <thead>\n",
       "    <tr style=\"text-align: right;\">\n",
       "      <th></th>\n",
       "      <th>event_timestamp</th>\n",
       "      <th>region</th>\n",
       "      <th>ua_device_type</th>\n",
       "      <th>ua_client_type</th>\n",
       "      <th>ua_os</th>\n",
       "      <th>ua_client_name</th>\n",
       "      <th>total_watchtime</th>\n",
       "      <th>rutube_video_id</th>\n",
       "      <th>viewer_uid</th>\n",
       "    </tr>\n",
       "  </thead>\n",
       "  <tbody>\n",
       "    <tr>\n",
       "      <th>0</th>\n",
       "      <td>2024-06-01 13:08:30+03:00</td>\n",
       "      <td>Tatarstan Republic</td>\n",
       "      <td>smartphone</td>\n",
       "      <td>browser</td>\n",
       "      <td>Android</td>\n",
       "      <td>Chrome Mobile</td>\n",
       "      <td>60</td>\n",
       "      <td>video_395879</td>\n",
       "      <td>10813370</td>\n",
       "    </tr>\n",
       "    <tr>\n",
       "      <th>1</th>\n",
       "      <td>2024-06-01 14:30:00+03:00</td>\n",
       "      <td>Bashkortostan Republic</td>\n",
       "      <td>smartphone</td>\n",
       "      <td>mobile app</td>\n",
       "      <td>Android</td>\n",
       "      <td>Rutube</td>\n",
       "      <td>60</td>\n",
       "      <td>video_216518</td>\n",
       "      <td>10512324</td>\n",
       "    </tr>\n",
       "    <tr>\n",
       "      <th>2</th>\n",
       "      <td>2024-06-01 18:48:12+03:00</td>\n",
       "      <td>Novosibirsk Oblast</td>\n",
       "      <td>smartphone</td>\n",
       "      <td>mobile app</td>\n",
       "      <td>Android</td>\n",
       "      <td>Rutube</td>\n",
       "      <td>121</td>\n",
       "      <td>video_41225</td>\n",
       "      <td>10951137</td>\n",
       "    </tr>\n",
       "    <tr>\n",
       "      <th>3</th>\n",
       "      <td>2024-06-01 16:32:36+03:00</td>\n",
       "      <td>Moscow</td>\n",
       "      <td>desktop</td>\n",
       "      <td>browser</td>\n",
       "      <td>Windows</td>\n",
       "      <td>Yandex Browser</td>\n",
       "      <td>2324</td>\n",
       "      <td>video_215886</td>\n",
       "      <td>10912434</td>\n",
       "    </tr>\n",
       "    <tr>\n",
       "      <th>4</th>\n",
       "      <td>2024-06-01 00:57:04+03:00</td>\n",
       "      <td>Moscow Oblast</td>\n",
       "      <td>smartphone</td>\n",
       "      <td>mobile app</td>\n",
       "      <td>Android</td>\n",
       "      <td>Rutube</td>\n",
       "      <td>6830</td>\n",
       "      <td>video_43631</td>\n",
       "      <td>10223585</td>\n",
       "    </tr>\n",
       "  </tbody>\n",
       "</table>\n",
       "</div>"
      ],
      "text/plain": [
       "             event_timestamp  ... viewer_uid\n",
       "0  2024-06-01 13:08:30+03:00  ...   10813370\n",
       "1  2024-06-01 14:30:00+03:00  ...   10512324\n",
       "2  2024-06-01 18:48:12+03:00  ...   10951137\n",
       "3  2024-06-01 16:32:36+03:00  ...   10912434\n",
       "4  2024-06-01 00:57:04+03:00  ...   10223585\n",
       "\n",
       "[5 rows x 9 columns]"
      ]
     },
     "execution_count": 6,
     "metadata": {},
     "output_type": "execute_result"
    }
   ],
   "source": [
    "df_all.head()"
   ]
  },
  {
   "cell_type": "code",
   "execution_count": 7,
   "id": "8759a203-fa18-4b6c-8a25-dfee7edca94f",
   "metadata": {
    "execution": {
     "iopub.execute_input": "2024-09-28T23:25:55.151704Z",
     "iopub.status.busy": "2024-09-28T23:25:55.151025Z",
     "iopub.status.idle": "2024-09-28T23:25:55.170866Z",
     "shell.execute_reply": "2024-09-28T23:25:55.170331Z",
     "shell.execute_reply.started": "2024-09-28T23:25:55.151676Z"
    },
    "tags": []
   },
   "outputs": [
    {
     "data": {
      "text/html": [
       "<div>\n",
       "<style scoped>\n",
       "    .dataframe tbody tr th:only-of-type {\n",
       "        vertical-align: middle;\n",
       "    }\n",
       "\n",
       "    .dataframe tbody tr th {\n",
       "        vertical-align: top;\n",
       "    }\n",
       "\n",
       "    .dataframe thead th {\n",
       "        text-align: right;\n",
       "    }\n",
       "</style>\n",
       "<table border=\"1\" class=\"dataframe\">\n",
       "  <thead>\n",
       "    <tr style=\"text-align: right;\">\n",
       "      <th></th>\n",
       "      <th>event_timestamp</th>\n",
       "      <th>region</th>\n",
       "      <th>ua_device_type</th>\n",
       "      <th>ua_client_type</th>\n",
       "      <th>ua_os</th>\n",
       "      <th>ua_client_name</th>\n",
       "      <th>total_watchtime</th>\n",
       "      <th>rutube_video_id</th>\n",
       "      <th>viewer_uid</th>\n",
       "    </tr>\n",
       "  </thead>\n",
       "  <tbody>\n",
       "    <tr>\n",
       "      <th>0</th>\n",
       "      <td>2024-06-01 06:40:58+03:00</td>\n",
       "      <td>Chelyabinsk</td>\n",
       "      <td>desktop</td>\n",
       "      <td>browser</td>\n",
       "      <td>Windows</td>\n",
       "      <td>Yandex Browser</td>\n",
       "      <td>1883</td>\n",
       "      <td>video_133074</td>\n",
       "      <td>10067243</td>\n",
       "    </tr>\n",
       "    <tr>\n",
       "      <th>1</th>\n",
       "      <td>2024-06-01 19:33:24+03:00</td>\n",
       "      <td>Bashkortostan Republic</td>\n",
       "      <td>smartphone</td>\n",
       "      <td>mobile app</td>\n",
       "      <td>Android</td>\n",
       "      <td>Rutube</td>\n",
       "      <td>512</td>\n",
       "      <td>video_362960</td>\n",
       "      <td>10245341</td>\n",
       "    </tr>\n",
       "    <tr>\n",
       "      <th>2</th>\n",
       "      <td>2024-06-01 21:30:43+03:00</td>\n",
       "      <td>St.-Petersburg</td>\n",
       "      <td>desktop</td>\n",
       "      <td>browser</td>\n",
       "      <td>Windows</td>\n",
       "      <td>Chrome</td>\n",
       "      <td>5647</td>\n",
       "      <td>video_96775</td>\n",
       "      <td>10894333</td>\n",
       "    </tr>\n",
       "    <tr>\n",
       "      <th>3</th>\n",
       "      <td>2024-06-01 23:03:42+03:00</td>\n",
       "      <td>Moscow</td>\n",
       "      <td>smartphone</td>\n",
       "      <td>mobile app</td>\n",
       "      <td>Android</td>\n",
       "      <td>Rutube</td>\n",
       "      <td>1521</td>\n",
       "      <td>video_161610</td>\n",
       "      <td>10029092</td>\n",
       "    </tr>\n",
       "    <tr>\n",
       "      <th>4</th>\n",
       "      <td>2024-06-01 22:48:09+03:00</td>\n",
       "      <td>Moscow</td>\n",
       "      <td>smartphone</td>\n",
       "      <td>mobile app</td>\n",
       "      <td>Android</td>\n",
       "      <td>Rutube</td>\n",
       "      <td>71</td>\n",
       "      <td>video_116245</td>\n",
       "      <td>10452976</td>\n",
       "    </tr>\n",
       "  </tbody>\n",
       "</table>\n",
       "</div>"
      ],
      "text/plain": [
       "             event_timestamp  ... viewer_uid\n",
       "0  2024-06-01 06:40:58+03:00  ...   10067243\n",
       "1  2024-06-01 19:33:24+03:00  ...   10245341\n",
       "2  2024-06-01 21:30:43+03:00  ...   10894333\n",
       "3  2024-06-01 23:03:42+03:00  ...   10029092\n",
       "4  2024-06-01 22:48:09+03:00  ...   10452976\n",
       "\n",
       "[5 rows x 9 columns]"
      ]
     },
     "execution_count": 7,
     "metadata": {},
     "output_type": "execute_result"
    }
   ],
   "source": [
    "df_train.head()"
   ]
  },
  {
   "cell_type": "markdown",
   "id": "2d9bb2eb-669e-40fc-9950-6ad2afc69683",
   "metadata": {},
   "source": [
    "### Получаем таблицу со всеми записями "
   ]
  },
  {
   "cell_type": "code",
   "execution_count": 8,
   "id": "9b6acba3-deee-486b-950a-0f7c3fa597ee",
   "metadata": {
    "execution": {
     "iopub.execute_input": "2024-09-28T23:25:55.172546Z",
     "iopub.status.busy": "2024-09-28T23:25:55.172052Z",
     "iopub.status.idle": "2024-09-28T23:25:56.868457Z",
     "shell.execute_reply": "2024-09-28T23:25:56.867813Z",
     "shell.execute_reply.started": "2024-09-28T23:25:55.172525Z"
    },
    "tags": []
   },
   "outputs": [],
   "source": [
    "df = pd.concat([df_all, df_train], axis = 0)"
   ]
  },
  {
   "cell_type": "code",
   "execution_count": 9,
   "id": "eb666918-2657-432c-a64f-777ffdc97e18",
   "metadata": {
    "execution": {
     "iopub.execute_input": "2024-09-28T23:25:56.869801Z",
     "iopub.status.busy": "2024-09-28T23:25:56.869296Z",
     "iopub.status.idle": "2024-09-28T23:25:56.880685Z",
     "shell.execute_reply": "2024-09-28T23:25:56.880139Z",
     "shell.execute_reply.started": "2024-09-28T23:25:56.869771Z"
    },
    "tags": []
   },
   "outputs": [
    {
     "data": {
      "text/plain": [
       "(10199240, 9)"
      ]
     },
     "execution_count": 9,
     "metadata": {},
     "output_type": "execute_result"
    }
   ],
   "source": [
    "df.shape"
   ]
  },
  {
   "cell_type": "code",
   "execution_count": 10,
   "id": "f95297fe-683f-4f91-960c-275baaf1240a",
   "metadata": {
    "execution": {
     "iopub.execute_input": "2024-09-28T23:25:56.881985Z",
     "iopub.status.busy": "2024-09-28T23:25:56.881347Z",
     "iopub.status.idle": "2024-09-28T23:25:56.890100Z",
     "shell.execute_reply": "2024-09-28T23:25:56.889564Z",
     "shell.execute_reply.started": "2024-09-28T23:25:56.881956Z"
    },
    "tags": []
   },
   "outputs": [
    {
     "data": {
      "text/plain": [
       "Index(['event_timestamp', 'region', 'ua_device_type', 'ua_client_type',\n",
       "       'ua_os', 'ua_client_name', 'total_watchtime', 'rutube_video_id',\n",
       "       'viewer_uid'],\n",
       "      dtype='object')"
      ]
     },
     "execution_count": 10,
     "metadata": {},
     "output_type": "execute_result"
    }
   ],
   "source": [
    "df.columns"
   ]
  },
  {
   "cell_type": "markdown",
   "id": "ea2c7270-bcdf-42ee-8644-56787870cd01",
   "metadata": {},
   "source": [
    "### Подгружаем и джойним таблицу с информацией о видео"
   ]
  },
  {
   "cell_type": "code",
   "execution_count": 11,
   "id": "54e90c13-d60a-4a79-9714-445316cbc720",
   "metadata": {
    "execution": {
     "iopub.execute_input": "2024-09-28T23:25:56.891282Z",
     "iopub.status.busy": "2024-09-28T23:25:56.890710Z",
     "iopub.status.idle": "2024-09-28T23:25:58.249316Z",
     "shell.execute_reply": "2024-09-28T23:25:58.248662Z",
     "shell.execute_reply.started": "2024-09-28T23:25:56.891254Z"
    },
    "tags": []
   },
   "outputs": [],
   "source": [
    "df_info = pd.read_csv('video_info_v2.csv')"
   ]
  },
  {
   "cell_type": "code",
   "execution_count": 12,
   "id": "b91d531f-75cc-43b4-9fc0-c693ecc41060",
   "metadata": {
    "execution": {
     "iopub.execute_input": "2024-09-28T23:25:58.250776Z",
     "iopub.status.busy": "2024-09-28T23:25:58.250128Z",
     "iopub.status.idle": "2024-09-28T23:25:58.289788Z",
     "shell.execute_reply": "2024-09-28T23:25:58.289250Z",
     "shell.execute_reply.started": "2024-09-28T23:25:58.250751Z"
    },
    "tags": []
   },
   "outputs": [
    {
     "data": {
      "text/html": [
       "<div>\n",
       "<style scoped>\n",
       "    .dataframe tbody tr th:only-of-type {\n",
       "        vertical-align: middle;\n",
       "    }\n",
       "\n",
       "    .dataframe tbody tr th {\n",
       "        vertical-align: top;\n",
       "    }\n",
       "\n",
       "    .dataframe thead th {\n",
       "        text-align: right;\n",
       "    }\n",
       "</style>\n",
       "<table border=\"1\" class=\"dataframe\">\n",
       "  <thead>\n",
       "    <tr style=\"text-align: right;\">\n",
       "      <th></th>\n",
       "      <th>rutube_video_id</th>\n",
       "      <th>title</th>\n",
       "      <th>category</th>\n",
       "      <th>duration</th>\n",
       "      <th>author_id</th>\n",
       "    </tr>\n",
       "  </thead>\n",
       "  <tbody>\n",
       "    <tr>\n",
       "      <th>0</th>\n",
       "      <td>video_185549</td>\n",
       "      <td>Как собрать букет из мыльных тюльпанов - Силик...</td>\n",
       "      <td>Хобби</td>\n",
       "      <td>1559160</td>\n",
       "      <td>1015054</td>\n",
       "    </tr>\n",
       "    <tr>\n",
       "      <th>1</th>\n",
       "      <td>video_111035</td>\n",
       "      <td>Осторожно, Киберземляне!, 1 сезон, 12 серия</td>\n",
       "      <td>Сериалы</td>\n",
       "      <td>1320007</td>\n",
       "      <td>1002180</td>\n",
       "    </tr>\n",
       "    <tr>\n",
       "      <th>2</th>\n",
       "      <td>video_476517</td>\n",
       "      <td>ПОПУЛЯРНЫЕ ВИДЕОИГРЫ в LEGO... перевод - TD BR...</td>\n",
       "      <td>Хобби</td>\n",
       "      <td>606145</td>\n",
       "      <td>1095337</td>\n",
       "    </tr>\n",
       "    <tr>\n",
       "      <th>3</th>\n",
       "      <td>video_157198</td>\n",
       "      <td>Хороший лжец (фильм, 2019)</td>\n",
       "      <td>Фильмы</td>\n",
       "      <td>6577440</td>\n",
       "      <td>1043618</td>\n",
       "    </tr>\n",
       "    <tr>\n",
       "      <th>4</th>\n",
       "      <td>video_289824</td>\n",
       "      <td>Нашего старого гнобят по-всякому</td>\n",
       "      <td>Развлечения</td>\n",
       "      <td>859493</td>\n",
       "      <td>1009535</td>\n",
       "    </tr>\n",
       "  </tbody>\n",
       "</table>\n",
       "</div>"
      ],
      "text/plain": [
       "  rutube_video_id  ... author_id\n",
       "0    video_185549  ...   1015054\n",
       "1    video_111035  ...   1002180\n",
       "2    video_476517  ...   1095337\n",
       "3    video_157198  ...   1043618\n",
       "4    video_289824  ...   1009535\n",
       "\n",
       "[5 rows x 5 columns]"
      ]
     },
     "execution_count": 12,
     "metadata": {},
     "output_type": "execute_result"
    }
   ],
   "source": [
    "df_info.head()"
   ]
  },
  {
   "cell_type": "code",
   "execution_count": 13,
   "id": "318eb97e-06d0-4bcf-83dd-67389ee8dd4f",
   "metadata": {
    "execution": {
     "iopub.execute_input": "2024-09-28T23:25:58.291127Z",
     "iopub.status.busy": "2024-09-28T23:25:58.290495Z",
     "iopub.status.idle": "2024-09-28T23:26:04.132846Z",
     "shell.execute_reply": "2024-09-28T23:26:04.132183Z",
     "shell.execute_reply.started": "2024-09-28T23:25:58.291106Z"
    },
    "tags": []
   },
   "outputs": [],
   "source": [
    "data = pd.merge(df, df_info, on = 'rutube_video_id', how = 'left')"
   ]
  },
  {
   "cell_type": "code",
   "execution_count": 14,
   "id": "ad85d57e-bcfe-4901-8f1f-16c3067d3d16",
   "metadata": {
    "execution": {
     "iopub.execute_input": "2024-09-28T23:26:04.135629Z",
     "iopub.status.busy": "2024-09-28T23:26:04.134915Z",
     "iopub.status.idle": "2024-09-28T23:26:04.205330Z",
     "shell.execute_reply": "2024-09-28T23:26:04.204682Z",
     "shell.execute_reply.started": "2024-09-28T23:26:04.135601Z"
    },
    "tags": []
   },
   "outputs": [
    {
     "data": {
      "text/plain": [
       "Index(['event_timestamp', 'region', 'ua_device_type', 'ua_client_type',\n",
       "       'ua_os', 'ua_client_name', 'total_watchtime', 'rutube_video_id',\n",
       "       'viewer_uid', 'title', 'category', 'duration', 'author_id'],\n",
       "      dtype='object')"
      ]
     },
     "execution_count": 14,
     "metadata": {},
     "output_type": "execute_result"
    }
   ],
   "source": [
    "data.columns"
   ]
  },
  {
   "cell_type": "markdown",
   "id": "00bad644-805e-4ae6-b898-38886174435d",
   "metadata": {},
   "source": [
    "## Собираем таблицу по всем видео"
   ]
  },
  {
   "cell_type": "markdown",
   "id": "7e3da6f8-4b3c-4a27-91a0-9941752f1099",
   "metadata": {},
   "source": [
    "Сгруппируем нашу таблицу по video_id и посчитаем количество просмотров для каждого видео"
   ]
  },
  {
   "cell_type": "code",
   "execution_count": 15,
   "id": "8eb33ab4-6423-4935-a0a9-850595949cfe",
   "metadata": {
    "execution": {
     "iopub.execute_input": "2024-09-28T23:26:04.206692Z",
     "iopub.status.busy": "2024-09-28T23:26:04.206099Z",
     "iopub.status.idle": "2024-09-28T23:26:10.550551Z",
     "shell.execute_reply": "2024-09-28T23:26:10.549645Z",
     "shell.execute_reply.started": "2024-09-28T23:26:04.206672Z"
    },
    "tags": []
   },
   "outputs": [],
   "source": [
    "df = data.groupby(['rutube_video_id', 'title', 'category', 'duration', 'author_id']).size().reset_index(name='view_count')"
   ]
  },
  {
   "cell_type": "code",
   "execution_count": 16,
   "id": "77818d21-4656-4a6d-8c7e-72515aa380a0",
   "metadata": {
    "execution": {
     "iopub.execute_input": "2024-09-28T23:26:10.552421Z",
     "iopub.status.busy": "2024-09-28T23:26:10.551744Z",
     "iopub.status.idle": "2024-09-28T23:26:10.570358Z",
     "shell.execute_reply": "2024-09-28T23:26:10.569790Z",
     "shell.execute_reply.started": "2024-09-28T23:26:10.552393Z"
    },
    "tags": []
   },
   "outputs": [
    {
     "data": {
      "text/html": [
       "<div>\n",
       "<style scoped>\n",
       "    .dataframe tbody tr th:only-of-type {\n",
       "        vertical-align: middle;\n",
       "    }\n",
       "\n",
       "    .dataframe tbody tr th {\n",
       "        vertical-align: top;\n",
       "    }\n",
       "\n",
       "    .dataframe thead th {\n",
       "        text-align: right;\n",
       "    }\n",
       "</style>\n",
       "<table border=\"1\" class=\"dataframe\">\n",
       "  <thead>\n",
       "    <tr style=\"text-align: right;\">\n",
       "      <th></th>\n",
       "      <th>rutube_video_id</th>\n",
       "      <th>title</th>\n",
       "      <th>category</th>\n",
       "      <th>duration</th>\n",
       "      <th>author_id</th>\n",
       "      <th>view_count</th>\n",
       "    </tr>\n",
       "  </thead>\n",
       "  <tbody>\n",
       "    <tr>\n",
       "      <th>0</th>\n",
       "      <td>video_0</td>\n",
       "      <td>Киндерлинская пещера. Природный парк Зилим. Ба...</td>\n",
       "      <td>Разное</td>\n",
       "      <td>369105</td>\n",
       "      <td>1101320</td>\n",
       "      <td>1</td>\n",
       "    </tr>\n",
       "    <tr>\n",
       "      <th>1</th>\n",
       "      <td>video_1</td>\n",
       "      <td>Запрет есть, наказания нет: суть ограничений н...</td>\n",
       "      <td>Телепередачи</td>\n",
       "      <td>266449</td>\n",
       "      <td>1008828</td>\n",
       "      <td>1</td>\n",
       "    </tr>\n",
       "    <tr>\n",
       "      <th>2</th>\n",
       "      <td>video_10</td>\n",
       "      <td>Разлука Орхидеи и Повелителя демонов- 1 сезон ...</td>\n",
       "      <td>Сериалы</td>\n",
       "      <td>2551733</td>\n",
       "      <td>1093191</td>\n",
       "      <td>20</td>\n",
       "    </tr>\n",
       "    <tr>\n",
       "      <th>3</th>\n",
       "      <td>video_100</td>\n",
       "      <td>Рок-фестиваль YLЕТАЙ-2023 / Протесты в Париже ...</td>\n",
       "      <td>Телепередачи</td>\n",
       "      <td>3956462</td>\n",
       "      <td>1016111</td>\n",
       "      <td>1</td>\n",
       "    </tr>\n",
       "    <tr>\n",
       "      <th>4</th>\n",
       "      <td>video_1000</td>\n",
       "      <td>Caliber gameplay.Калибр.Нужно больше навыков.</td>\n",
       "      <td>Видеоигры</td>\n",
       "      <td>6188011</td>\n",
       "      <td>1122425</td>\n",
       "      <td>1</td>\n",
       "    </tr>\n",
       "  </tbody>\n",
       "</table>\n",
       "</div>"
      ],
      "text/plain": [
       "  rutube_video_id  ... view_count\n",
       "0         video_0  ...          1\n",
       "1         video_1  ...          1\n",
       "2        video_10  ...         20\n",
       "3       video_100  ...          1\n",
       "4      video_1000  ...          1\n",
       "\n",
       "[5 rows x 6 columns]"
      ]
     },
     "execution_count": 16,
     "metadata": {},
     "output_type": "execute_result"
    }
   ],
   "source": [
    "df.head()"
   ]
  },
  {
   "cell_type": "code",
   "execution_count": 17,
   "id": "db8fc3ee-580e-4fbb-b6ae-c360328cae05",
   "metadata": {
    "execution": {
     "iopub.execute_input": "2024-09-28T23:26:10.571510Z",
     "iopub.status.busy": "2024-09-28T23:26:10.571063Z",
     "iopub.status.idle": "2024-09-28T23:26:10.632144Z",
     "shell.execute_reply": "2024-09-28T23:26:10.631512Z",
     "shell.execute_reply.started": "2024-09-28T23:26:10.571490Z"
    },
    "tags": []
   },
   "outputs": [],
   "source": [
    "df = df.sort_values(by='view_count', ascending=False)"
   ]
  },
  {
   "cell_type": "code",
   "execution_count": 18,
   "id": "ae79b051-262f-4780-b898-eeb6aa6bceaf",
   "metadata": {
    "execution": {
     "iopub.execute_input": "2024-09-28T23:26:10.633542Z",
     "iopub.status.busy": "2024-09-28T23:26:10.632960Z",
     "iopub.status.idle": "2024-09-28T23:26:10.716313Z",
     "shell.execute_reply": "2024-09-28T23:26:10.715733Z",
     "shell.execute_reply.started": "2024-09-28T23:26:10.633521Z"
    },
    "tags": []
   },
   "outputs": [
    {
     "data": {
      "text/html": [
       "<div>\n",
       "<style scoped>\n",
       "    .dataframe tbody tr th:only-of-type {\n",
       "        vertical-align: middle;\n",
       "    }\n",
       "\n",
       "    .dataframe tbody tr th {\n",
       "        vertical-align: top;\n",
       "    }\n",
       "\n",
       "    .dataframe thead th {\n",
       "        text-align: right;\n",
       "    }\n",
       "</style>\n",
       "<table border=\"1\" class=\"dataframe\">\n",
       "  <thead>\n",
       "    <tr style=\"text-align: right;\">\n",
       "      <th></th>\n",
       "      <th>index</th>\n",
       "      <th>rutube_video_id</th>\n",
       "      <th>title</th>\n",
       "      <th>category</th>\n",
       "      <th>duration</th>\n",
       "      <th>author_id</th>\n",
       "      <th>view_count</th>\n",
       "    </tr>\n",
       "  </thead>\n",
       "  <tbody>\n",
       "    <tr>\n",
       "      <th>0</th>\n",
       "      <td>351711</td>\n",
       "      <td>video_96775</td>\n",
       "      <td>Новая Битва экстрасенсов, 24 сезон, 11 выпуск</td>\n",
       "      <td>Телепередачи</td>\n",
       "      <td>5518280</td>\n",
       "      <td>1009257</td>\n",
       "      <td>107378</td>\n",
       "    </tr>\n",
       "    <tr>\n",
       "      <th>1</th>\n",
       "      <td>317076</td>\n",
       "      <td>video_54649</td>\n",
       "      <td>Новая Битва экстрасенсов, 24 сезон, 13 выпуск</td>\n",
       "      <td>Телепередачи</td>\n",
       "      <td>5642240</td>\n",
       "      <td>1009257</td>\n",
       "      <td>104141</td>\n",
       "    </tr>\n",
       "    <tr>\n",
       "      <th>2</th>\n",
       "      <td>91034</td>\n",
       "      <td>video_211211</td>\n",
       "      <td>Новая Битва экстрасенсов, 24 сезон, 12 выпуск</td>\n",
       "      <td>Телепередачи</td>\n",
       "      <td>5450640</td>\n",
       "      <td>1009257</td>\n",
       "      <td>103911</td>\n",
       "    </tr>\n",
       "    <tr>\n",
       "      <th>3</th>\n",
       "      <td>176659</td>\n",
       "      <td>video_316010</td>\n",
       "      <td>Новая Битва экстрасенсов, 24 сезон, 14 выпуск....</td>\n",
       "      <td>Телепередачи</td>\n",
       "      <td>5917000</td>\n",
       "      <td>1009257</td>\n",
       "      <td>64885</td>\n",
       "    </tr>\n",
       "    <tr>\n",
       "      <th>4</th>\n",
       "      <td>12984</td>\n",
       "      <td>video_115806</td>\n",
       "      <td>Выжить в Дубае. Возвращение, 1 выпуск</td>\n",
       "      <td>Телепередачи</td>\n",
       "      <td>6743000</td>\n",
       "      <td>1009257</td>\n",
       "      <td>61151</td>\n",
       "    </tr>\n",
       "    <tr>\n",
       "      <th>...</th>\n",
       "      <td>...</td>\n",
       "      <td>...</td>\n",
       "      <td>...</td>\n",
       "      <td>...</td>\n",
       "      <td>...</td>\n",
       "      <td>...</td>\n",
       "      <td>...</td>\n",
       "    </tr>\n",
       "    <tr>\n",
       "      <th>354362</th>\n",
       "      <td>155452</td>\n",
       "      <td>video_290141</td>\n",
       "      <td>Евгений Коновалов - Любовник и Любовница</td>\n",
       "      <td>Музыка</td>\n",
       "      <td>218552</td>\n",
       "      <td>1023134</td>\n",
       "      <td>1</td>\n",
       "    </tr>\n",
       "    <tr>\n",
       "      <th>354363</th>\n",
       "      <td>155455</td>\n",
       "      <td>video_290146</td>\n",
       "      <td>Kim Taehyung BTS - Lose</td>\n",
       "      <td>Развлечения</td>\n",
       "      <td>285519</td>\n",
       "      <td>1015508</td>\n",
       "      <td>1</td>\n",
       "    </tr>\n",
       "    <tr>\n",
       "      <th>354364</th>\n",
       "      <td>155456</td>\n",
       "      <td>video_290147</td>\n",
       "      <td>КВН 2017 Высшая лига Первая 1/8 (26.02.2017)</td>\n",
       "      <td>Юмор</td>\n",
       "      <td>6646804</td>\n",
       "      <td>1004166</td>\n",
       "      <td>1</td>\n",
       "    </tr>\n",
       "    <tr>\n",
       "      <th>354365</th>\n",
       "      <td>155459</td>\n",
       "      <td>video_29015</td>\n",
       "      <td>А как вам такие идеи из остатков ткани? :) 5 И...</td>\n",
       "      <td>Разное</td>\n",
       "      <td>1181107</td>\n",
       "      <td>1048898</td>\n",
       "      <td>1</td>\n",
       "    </tr>\n",
       "    <tr>\n",
       "      <th>354366</th>\n",
       "      <td>354366</td>\n",
       "      <td>video_99999</td>\n",
       "      <td>«БИТВЫ ПРЕСТОЛОВ». ПРОЕКТ «РУССКАЯ ИСТОРИЯ». И...</td>\n",
       "      <td>Обучение</td>\n",
       "      <td>734187</td>\n",
       "      <td>1001119</td>\n",
       "      <td>1</td>\n",
       "    </tr>\n",
       "  </tbody>\n",
       "</table>\n",
       "<p>354367 rows × 7 columns</p>\n",
       "</div>"
      ],
      "text/plain": [
       "         index rutube_video_id  ... author_id view_count\n",
       "0       351711     video_96775  ...   1009257     107378\n",
       "1       317076     video_54649  ...   1009257     104141\n",
       "2        91034    video_211211  ...   1009257     103911\n",
       "3       176659    video_316010  ...   1009257      64885\n",
       "4        12984    video_115806  ...   1009257      61151\n",
       "...        ...             ...  ...       ...        ...\n",
       "354362  155452    video_290141  ...   1023134          1\n",
       "354363  155455    video_290146  ...   1015508          1\n",
       "354364  155456    video_290147  ...   1004166          1\n",
       "354365  155459     video_29015  ...   1048898          1\n",
       "354366  354366     video_99999  ...   1001119          1\n",
       "\n",
       "[354367 rows x 7 columns]"
      ]
     },
     "execution_count": 18,
     "metadata": {},
     "output_type": "execute_result"
    }
   ],
   "source": [
    "df.reset_index()"
   ]
  },
  {
   "cell_type": "code",
   "execution_count": 19,
   "id": "8719dd82-45d5-4386-bdff-59887e3ee5c2",
   "metadata": {
    "execution": {
     "iopub.execute_input": "2024-09-28T23:26:10.717693Z",
     "iopub.status.busy": "2024-09-28T23:26:10.717118Z",
     "iopub.status.idle": "2024-09-28T23:26:10.795219Z",
     "shell.execute_reply": "2024-09-28T23:26:10.794598Z",
     "shell.execute_reply.started": "2024-09-28T23:26:10.717671Z"
    },
    "tags": []
   },
   "outputs": [],
   "source": [
    "df = df.reset_index(drop=True)"
   ]
  },
  {
   "cell_type": "code",
   "execution_count": 20,
   "id": "a55c8d27-4aba-4654-9d4d-07863bbdb01f",
   "metadata": {
    "execution": {
     "iopub.execute_input": "2024-09-28T23:26:10.796645Z",
     "iopub.status.busy": "2024-09-28T23:26:10.796052Z",
     "iopub.status.idle": "2024-09-28T23:26:10.813839Z",
     "shell.execute_reply": "2024-09-28T23:26:10.813300Z",
     "shell.execute_reply.started": "2024-09-28T23:26:10.796608Z"
    },
    "tags": []
   },
   "outputs": [
    {
     "data": {
      "text/html": [
       "<div>\n",
       "<style scoped>\n",
       "    .dataframe tbody tr th:only-of-type {\n",
       "        vertical-align: middle;\n",
       "    }\n",
       "\n",
       "    .dataframe tbody tr th {\n",
       "        vertical-align: top;\n",
       "    }\n",
       "\n",
       "    .dataframe thead th {\n",
       "        text-align: right;\n",
       "    }\n",
       "</style>\n",
       "<table border=\"1\" class=\"dataframe\">\n",
       "  <thead>\n",
       "    <tr style=\"text-align: right;\">\n",
       "      <th></th>\n",
       "      <th>rutube_video_id</th>\n",
       "      <th>title</th>\n",
       "      <th>category</th>\n",
       "      <th>duration</th>\n",
       "      <th>author_id</th>\n",
       "      <th>view_count</th>\n",
       "    </tr>\n",
       "  </thead>\n",
       "  <tbody>\n",
       "    <tr>\n",
       "      <th>0</th>\n",
       "      <td>video_96775</td>\n",
       "      <td>Новая Битва экстрасенсов, 24 сезон, 11 выпуск</td>\n",
       "      <td>Телепередачи</td>\n",
       "      <td>5518280</td>\n",
       "      <td>1009257</td>\n",
       "      <td>107378</td>\n",
       "    </tr>\n",
       "    <tr>\n",
       "      <th>1</th>\n",
       "      <td>video_54649</td>\n",
       "      <td>Новая Битва экстрасенсов, 24 сезон, 13 выпуск</td>\n",
       "      <td>Телепередачи</td>\n",
       "      <td>5642240</td>\n",
       "      <td>1009257</td>\n",
       "      <td>104141</td>\n",
       "    </tr>\n",
       "    <tr>\n",
       "      <th>2</th>\n",
       "      <td>video_211211</td>\n",
       "      <td>Новая Битва экстрасенсов, 24 сезон, 12 выпуск</td>\n",
       "      <td>Телепередачи</td>\n",
       "      <td>5450640</td>\n",
       "      <td>1009257</td>\n",
       "      <td>103911</td>\n",
       "    </tr>\n",
       "    <tr>\n",
       "      <th>3</th>\n",
       "      <td>video_316010</td>\n",
       "      <td>Новая Битва экстрасенсов, 24 сезон, 14 выпуск....</td>\n",
       "      <td>Телепередачи</td>\n",
       "      <td>5917000</td>\n",
       "      <td>1009257</td>\n",
       "      <td>64885</td>\n",
       "    </tr>\n",
       "    <tr>\n",
       "      <th>4</th>\n",
       "      <td>video_115806</td>\n",
       "      <td>Выжить в Дубае. Возвращение, 1 выпуск</td>\n",
       "      <td>Телепередачи</td>\n",
       "      <td>6743000</td>\n",
       "      <td>1009257</td>\n",
       "      <td>61151</td>\n",
       "    </tr>\n",
       "  </tbody>\n",
       "</table>\n",
       "</div>"
      ],
      "text/plain": [
       "  rutube_video_id  ... view_count\n",
       "0     video_96775  ...     107378\n",
       "1     video_54649  ...     104141\n",
       "2    video_211211  ...     103911\n",
       "3    video_316010  ...      64885\n",
       "4    video_115806  ...      61151\n",
       "\n",
       "[5 rows x 6 columns]"
      ]
     },
     "execution_count": 20,
     "metadata": {},
     "output_type": "execute_result"
    }
   ],
   "source": [
    "df.head()"
   ]
  },
  {
   "cell_type": "markdown",
   "id": "03b36977-8ff5-4fa6-9ddc-c35e71292170",
   "metadata": {},
   "source": [
    "## Собираем информацию по возрасту и полу"
   ]
  },
  {
   "cell_type": "markdown",
   "id": "2665f55a-c760-4e91-ad19-c1fa4169ae46",
   "metadata": {},
   "source": [
    "### Соберем таблицу со статистикой по пользователям для каждого видео"
   ]
  },
  {
   "cell_type": "code",
   "execution_count": 21,
   "id": "a5c7d8fa-588d-47f6-a655-b556ec2290ee",
   "metadata": {
    "execution": {
     "iopub.execute_input": "2024-09-28T23:26:10.815192Z",
     "iopub.status.busy": "2024-09-28T23:26:10.814625Z",
     "iopub.status.idle": "2024-09-28T23:26:12.551201Z",
     "shell.execute_reply": "2024-09-28T23:26:12.550581Z",
     "shell.execute_reply.started": "2024-09-28T23:26:10.815172Z"
    },
    "tags": []
   },
   "outputs": [],
   "source": [
    "df1 = pd.concat([df_all, df_train], axis = 0)\n",
    "df2 = pd.read_csv('train_targets.csv')"
   ]
  },
  {
   "cell_type": "code",
   "execution_count": 22,
   "id": "11d4e7dc-5504-4948-bf66-46712f859a5a",
   "metadata": {
    "execution": {
     "iopub.execute_input": "2024-09-28T23:26:12.552610Z",
     "iopub.status.busy": "2024-09-28T23:26:12.552022Z",
     "iopub.status.idle": "2024-09-28T23:27:48.909228Z",
     "shell.execute_reply": "2024-09-28T23:27:48.908286Z",
     "shell.execute_reply.started": "2024-09-28T23:26:12.552589Z"
    },
    "tags": []
   },
   "outputs": [],
   "source": [
    "import pandas as pd\n",
    "\n",
    "# Загрузка данных (замените на свои пути к файлам)\n",
    "video_data = pd.concat([df_all, df_train], axis=0)\n",
    "viewer_data = pd.read_csv('train_targets.csv')\n",
    "\n",
    "# Объединяем таблицы по столбцу viewer_uid\n",
    "merged_data = pd.merge(video_data, viewer_data, on='viewer_uid', how='inner')\n",
    "\n",
    "# Группируем данные по rutube_video_id\n",
    "grouped = merged_data.groupby('rutube_video_id')\n",
    "\n",
    "# Подсчитываем средний возраст и моду\n",
    "result = grouped.agg(\n",
    "    average_age=('age', 'mean'),\n",
    "    mode_age=('age', lambda x: x.mode()[0]),\n",
    "    total_viewers=('viewer_uid', 'count'),\n",
    "    male_count=('sex', lambda x: (x == 'male').sum()),\n",
    "    female_count=('sex', lambda x: (x == 'female').sum()),\n",
    "    age_class_0=('age_class', lambda x: (x == 0).sum()),\n",
    "    age_class_1=('age_class', lambda x: (x == 1).sum()),\n",
    "    age_class_2=('age_class', lambda x: (x == 2).sum()),\n",
    "    age_class_3=('age_class', lambda x: (x == 3).sum())\n",
    ")\n",
    "\n",
    "# Рассчитываем проценты\n",
    "result['male_percentage'] = (result['male_count'] / result['total_viewers']) * 100\n",
    "result['female_percentage'] = (result['female_count'] / result['total_viewers']) * 100\n",
    "result['class_0_percentage'] = (result['age_class_0'] / result['total_viewers']) * 100\n",
    "result['class_1_percentage'] = (result['age_class_1'] / result['total_viewers']) * 100\n",
    "result['class_2_percentage'] = (result['age_class_2'] / result['total_viewers']) * 100\n",
    "result['class_3_percentage'] = (result['age_class_3'] / result['total_viewers']) * 100\n",
    "\n",
    "result = result.round(2)\n",
    "\n",
    "# Добавляем столбец с количеством пользователей, которое было учтено для расчета статистики\n",
    "result['total_users_used'] = result['total_viewers']\n",
    "\n",
    "# Оставляем только нужные колонки\n",
    "final_result = result[['average_age', 'mode_age', 'male_percentage', 'female_percentage',\n",
    "                       'class_0_percentage', 'class_1_percentage', \n",
    "                       'class_2_percentage', 'class_3_percentage', 'total_users_used']].reset_index()\n"
   ]
  },
  {
   "cell_type": "markdown",
   "id": "d682c2e3-95fb-42df-9b64-63646724ee64",
   "metadata": {},
   "source": [
    "### Добавляем столбцы с статистикой к собранной ранее таблице"
   ]
  },
  {
   "cell_type": "code",
   "execution_count": 23,
   "id": "6cf0a12f-830e-4da9-a28a-fef96d061562",
   "metadata": {
    "execution": {
     "iopub.execute_input": "2024-09-28T23:27:48.911092Z",
     "iopub.status.busy": "2024-09-28T23:27:48.910543Z",
     "iopub.status.idle": "2024-09-28T23:27:50.012693Z",
     "shell.execute_reply": "2024-09-28T23:27:50.012021Z",
     "shell.execute_reply.started": "2024-09-28T23:27:48.911066Z"
    },
    "tags": []
   },
   "outputs": [],
   "source": [
    "data = pd.merge(df, final_result, on = 'rutube_video_id', how = 'left')"
   ]
  },
  {
   "cell_type": "code",
   "execution_count": 24,
   "id": "18af2725-a69a-4b0d-b233-58f61823ee16",
   "metadata": {
    "execution": {
     "iopub.execute_input": "2024-09-28T23:27:50.013876Z",
     "iopub.status.busy": "2024-09-28T23:27:50.013504Z",
     "iopub.status.idle": "2024-09-28T23:27:50.071399Z",
     "shell.execute_reply": "2024-09-28T23:27:50.070854Z",
     "shell.execute_reply.started": "2024-09-28T23:27:50.013854Z"
    },
    "tags": []
   },
   "outputs": [
    {
     "data": {
      "text/plain": [
       "228119"
      ]
     },
     "execution_count": 24,
     "metadata": {},
     "output_type": "execute_result"
    }
   ],
   "source": [
    "data['average_age'].isna().sum()"
   ]
  },
  {
   "cell_type": "code",
   "execution_count": 25,
   "id": "9f2a99ad-7850-4e3f-99df-eb9b237d55ee",
   "metadata": {
    "execution": {
     "iopub.execute_input": "2024-09-28T23:27:50.072709Z",
     "iopub.status.busy": "2024-09-28T23:27:50.072119Z",
     "iopub.status.idle": "2024-09-28T23:27:50.133035Z",
     "shell.execute_reply": "2024-09-28T23:27:50.132477Z",
     "shell.execute_reply.started": "2024-09-28T23:27:50.072689Z"
    },
    "tags": []
   },
   "outputs": [
    {
     "data": {
      "text/html": [
       "<div>\n",
       "<style scoped>\n",
       "    .dataframe tbody tr th:only-of-type {\n",
       "        vertical-align: middle;\n",
       "    }\n",
       "\n",
       "    .dataframe tbody tr th {\n",
       "        vertical-align: top;\n",
       "    }\n",
       "\n",
       "    .dataframe thead th {\n",
       "        text-align: right;\n",
       "    }\n",
       "</style>\n",
       "<table border=\"1\" class=\"dataframe\">\n",
       "  <thead>\n",
       "    <tr style=\"text-align: right;\">\n",
       "      <th></th>\n",
       "      <th>rutube_video_id</th>\n",
       "      <th>title</th>\n",
       "      <th>category</th>\n",
       "      <th>duration</th>\n",
       "      <th>author_id</th>\n",
       "      <th>view_count</th>\n",
       "      <th>average_age</th>\n",
       "      <th>mode_age</th>\n",
       "      <th>male_percentage</th>\n",
       "      <th>female_percentage</th>\n",
       "      <th>class_0_percentage</th>\n",
       "      <th>class_1_percentage</th>\n",
       "      <th>class_2_percentage</th>\n",
       "      <th>class_3_percentage</th>\n",
       "      <th>total_users_used</th>\n",
       "    </tr>\n",
       "  </thead>\n",
       "  <tbody>\n",
       "    <tr>\n",
       "      <th>0</th>\n",
       "      <td>video_96775</td>\n",
       "      <td>Новая Битва экстрасенсов, 24 сезон, 11 выпуск</td>\n",
       "      <td>Телепередачи</td>\n",
       "      <td>5518280</td>\n",
       "      <td>1009257</td>\n",
       "      <td>107378</td>\n",
       "      <td>31.47</td>\n",
       "      <td>24.0</td>\n",
       "      <td>15.50</td>\n",
       "      <td>84.50</td>\n",
       "      <td>6.00</td>\n",
       "      <td>42.81</td>\n",
       "      <td>36.84</td>\n",
       "      <td>14.35</td>\n",
       "      <td>23700.0</td>\n",
       "    </tr>\n",
       "    <tr>\n",
       "      <th>1</th>\n",
       "      <td>video_54649</td>\n",
       "      <td>Новая Битва экстрасенсов, 24 сезон, 13 выпуск</td>\n",
       "      <td>Телепередачи</td>\n",
       "      <td>5642240</td>\n",
       "      <td>1009257</td>\n",
       "      <td>104141</td>\n",
       "      <td>31.66</td>\n",
       "      <td>24.0</td>\n",
       "      <td>15.94</td>\n",
       "      <td>84.06</td>\n",
       "      <td>5.64</td>\n",
       "      <td>42.41</td>\n",
       "      <td>37.23</td>\n",
       "      <td>14.72</td>\n",
       "      <td>23255.0</td>\n",
       "    </tr>\n",
       "    <tr>\n",
       "      <th>2</th>\n",
       "      <td>video_211211</td>\n",
       "      <td>Новая Битва экстрасенсов, 24 сезон, 12 выпуск</td>\n",
       "      <td>Телепередачи</td>\n",
       "      <td>5450640</td>\n",
       "      <td>1009257</td>\n",
       "      <td>103911</td>\n",
       "      <td>31.59</td>\n",
       "      <td>24.0</td>\n",
       "      <td>15.87</td>\n",
       "      <td>84.13</td>\n",
       "      <td>5.68</td>\n",
       "      <td>42.84</td>\n",
       "      <td>36.87</td>\n",
       "      <td>14.61</td>\n",
       "      <td>23070.0</td>\n",
       "    </tr>\n",
       "    <tr>\n",
       "      <th>3</th>\n",
       "      <td>video_316010</td>\n",
       "      <td>Новая Битва экстрасенсов, 24 сезон, 14 выпуск....</td>\n",
       "      <td>Телепередачи</td>\n",
       "      <td>5917000</td>\n",
       "      <td>1009257</td>\n",
       "      <td>64885</td>\n",
       "      <td>31.86</td>\n",
       "      <td>24.0</td>\n",
       "      <td>16.10</td>\n",
       "      <td>83.90</td>\n",
       "      <td>5.07</td>\n",
       "      <td>41.65</td>\n",
       "      <td>38.24</td>\n",
       "      <td>15.04</td>\n",
       "      <td>14627.0</td>\n",
       "    </tr>\n",
       "    <tr>\n",
       "      <th>4</th>\n",
       "      <td>video_115806</td>\n",
       "      <td>Выжить в Дубае. Возвращение, 1 выпуск</td>\n",
       "      <td>Телепередачи</td>\n",
       "      <td>6743000</td>\n",
       "      <td>1009257</td>\n",
       "      <td>61151</td>\n",
       "      <td>32.13</td>\n",
       "      <td>24.0</td>\n",
       "      <td>22.20</td>\n",
       "      <td>77.80</td>\n",
       "      <td>2.25</td>\n",
       "      <td>42.80</td>\n",
       "      <td>42.09</td>\n",
       "      <td>12.86</td>\n",
       "      <td>18853.0</td>\n",
       "    </tr>\n",
       "  </tbody>\n",
       "</table>\n",
       "</div>"
      ],
      "text/plain": [
       "  rutube_video_id  ... total_users_used\n",
       "0     video_96775  ...          23700.0\n",
       "1     video_54649  ...          23255.0\n",
       "2    video_211211  ...          23070.0\n",
       "3    video_316010  ...          14627.0\n",
       "4    video_115806  ...          18853.0\n",
       "\n",
       "[5 rows x 15 columns]"
      ]
     },
     "execution_count": 25,
     "metadata": {},
     "output_type": "execute_result"
    }
   ],
   "source": [
    "data.head()"
   ]
  },
  {
   "cell_type": "markdown",
   "id": "feab847f-1bfd-45d2-b793-bcdcb4828650",
   "metadata": {},
   "source": [
    "## Вычисление значений возраста и пола для Строк с пропусками"
   ]
  },
  {
   "cell_type": "markdown",
   "id": "0e5c8991-07bf-436a-b62a-4c1acc844440",
   "metadata": {},
   "source": [
    "### Добавим эмбеддинги к нашей таблице"
   ]
  },
  {
   "cell_type": "code",
   "execution_count": 28,
   "id": "aa41ae17-404c-45fa-88c3-7de643057932",
   "metadata": {
    "execution": {
     "iopub.execute_input": "2024-09-28T23:37:09.124224Z",
     "iopub.status.busy": "2024-09-28T23:37:09.123425Z",
     "iopub.status.idle": "2024-09-28T23:39:21.598534Z",
     "shell.execute_reply": "2024-09-28T23:39:21.597850Z",
     "shell.execute_reply.started": "2024-09-28T23:37:09.124199Z"
    },
    "tags": []
   },
   "outputs": [],
   "source": [
    "df_emb = pd.read_csv('all_emb_tiny.csv')"
   ]
  },
  {
   "cell_type": "code",
   "execution_count": 29,
   "id": "155fdbb3-ef84-4c90-8775-4a4684628d6e",
   "metadata": {
    "execution": {
     "iopub.execute_input": "2024-09-28T23:39:21.600170Z",
     "iopub.status.busy": "2024-09-28T23:39:21.599600Z",
     "iopub.status.idle": "2024-09-28T23:39:21.630316Z",
     "shell.execute_reply": "2024-09-28T23:39:21.629671Z",
     "shell.execute_reply.started": "2024-09-28T23:39:21.600143Z"
    },
    "tags": []
   },
   "outputs": [],
   "source": [
    "df_emb = df_emb[['rutube_video_id', 'embeddings']]"
   ]
  },
  {
   "cell_type": "code",
   "execution_count": 30,
   "id": "d2e91bd0-0479-4c5f-8246-4135267335b6",
   "metadata": {
    "execution": {
     "iopub.execute_input": "2024-09-28T23:39:21.631652Z",
     "iopub.status.busy": "2024-09-28T23:39:21.631112Z",
     "iopub.status.idle": "2024-09-28T23:39:21.639972Z",
     "shell.execute_reply": "2024-09-28T23:39:21.639416Z",
     "shell.execute_reply.started": "2024-09-28T23:39:21.631629Z"
    },
    "tags": []
   },
   "outputs": [],
   "source": [
    "def parse_embedding(embedding_str):\n",
    "    return np.fromstring(embedding_str.strip(\"[]\"), sep=',')"
   ]
  },
  {
   "cell_type": "code",
   "execution_count": 31,
   "id": "103ac149-f44f-454a-ba0e-93453d505b7f",
   "metadata": {
    "execution": {
     "iopub.execute_input": "2024-09-28T23:39:21.641871Z",
     "iopub.status.busy": "2024-09-28T23:39:21.641269Z",
     "iopub.status.idle": "2024-09-28T23:40:01.391953Z",
     "shell.execute_reply": "2024-09-28T23:40:01.390885Z",
     "shell.execute_reply.started": "2024-09-28T23:39:21.641848Z"
    },
    "tags": []
   },
   "outputs": [],
   "source": [
    "# Примените функцию к столбцу с эмбеддингами\n",
    "df_emb['embeddings'] = df_emb['embeddings'].apply(parse_embedding)"
   ]
  },
  {
   "cell_type": "code",
   "execution_count": 32,
   "id": "9a1e3433-99f9-4014-aa17-a78f9591b0bb",
   "metadata": {
    "execution": {
     "iopub.execute_input": "2024-09-28T23:40:01.394016Z",
     "iopub.status.busy": "2024-09-28T23:40:01.393299Z",
     "iopub.status.idle": "2024-09-28T23:40:01.444448Z",
     "shell.execute_reply": "2024-09-28T23:40:01.443820Z",
     "shell.execute_reply.started": "2024-09-28T23:40:01.393987Z"
    },
    "tags": []
   },
   "outputs": [
    {
     "data": {
      "text/html": [
       "<div>\n",
       "<style scoped>\n",
       "    .dataframe tbody tr th:only-of-type {\n",
       "        vertical-align: middle;\n",
       "    }\n",
       "\n",
       "    .dataframe tbody tr th {\n",
       "        vertical-align: top;\n",
       "    }\n",
       "\n",
       "    .dataframe thead th {\n",
       "        text-align: right;\n",
       "    }\n",
       "</style>\n",
       "<table border=\"1\" class=\"dataframe\">\n",
       "  <thead>\n",
       "    <tr style=\"text-align: right;\">\n",
       "      <th></th>\n",
       "      <th>rutube_video_id</th>\n",
       "      <th>embeddings</th>\n",
       "    </tr>\n",
       "  </thead>\n",
       "  <tbody>\n",
       "    <tr>\n",
       "      <th>0</th>\n",
       "      <td>video_185549</td>\n",
       "      <td>[0.34006547927856445, -0.8857478499412537, 0.2...</td>\n",
       "    </tr>\n",
       "    <tr>\n",
       "      <th>1</th>\n",
       "      <td>video_111035</td>\n",
       "      <td>[0.45694699883461, 0.48634690046310425, 0.0973...</td>\n",
       "    </tr>\n",
       "    <tr>\n",
       "      <th>2</th>\n",
       "      <td>video_476517</td>\n",
       "      <td>[-0.576312780380249, -0.5698351860046387, -0.0...</td>\n",
       "    </tr>\n",
       "    <tr>\n",
       "      <th>3</th>\n",
       "      <td>video_157198</td>\n",
       "      <td>[-0.5488875508308411, -0.25806984305381775, -0...</td>\n",
       "    </tr>\n",
       "    <tr>\n",
       "      <th>4</th>\n",
       "      <td>video_289824</td>\n",
       "      <td>[0.2059473991394043, -0.5128248333930969, 0.07...</td>\n",
       "    </tr>\n",
       "  </tbody>\n",
       "</table>\n",
       "</div>"
      ],
      "text/plain": [
       "  rutube_video_id                                         embeddings\n",
       "0    video_185549  [0.34006547927856445, -0.8857478499412537, 0.2...\n",
       "1    video_111035  [0.45694699883461, 0.48634690046310425, 0.0973...\n",
       "2    video_476517  [-0.576312780380249, -0.5698351860046387, -0.0...\n",
       "3    video_157198  [-0.5488875508308411, -0.25806984305381775, -0...\n",
       "4    video_289824  [0.2059473991394043, -0.5128248333930969, 0.07..."
      ]
     },
     "execution_count": 32,
     "metadata": {},
     "output_type": "execute_result"
    }
   ],
   "source": [
    "df_emb.head()"
   ]
  },
  {
   "cell_type": "code",
   "execution_count": 33,
   "id": "d3434680-b72f-47b9-b9c4-7b97e959f0da",
   "metadata": {
    "execution": {
     "iopub.execute_input": "2024-09-28T23:40:01.445849Z",
     "iopub.status.busy": "2024-09-28T23:40:01.445218Z",
     "iopub.status.idle": "2024-09-28T23:40:02.010131Z",
     "shell.execute_reply": "2024-09-28T23:40:02.009434Z",
     "shell.execute_reply.started": "2024-09-28T23:40:01.445825Z"
    },
    "tags": []
   },
   "outputs": [],
   "source": [
    "df = pd.merge(data, df_emb, on='rutube_video_id', how='left')"
   ]
  },
  {
   "cell_type": "code",
   "execution_count": 34,
   "id": "6fffa755-3d70-4081-a613-ed19a1e103af",
   "metadata": {
    "execution": {
     "iopub.execute_input": "2024-09-28T23:40:12.320130Z",
     "iopub.status.busy": "2024-09-28T23:40:12.319274Z",
     "iopub.status.idle": "2024-09-28T23:40:12.372793Z",
     "shell.execute_reply": "2024-09-28T23:40:12.372202Z",
     "shell.execute_reply.started": "2024-09-28T23:40:12.320103Z"
    }
   },
   "outputs": [
    {
     "data": {
      "text/html": [
       "<div>\n",
       "<style scoped>\n",
       "    .dataframe tbody tr th:only-of-type {\n",
       "        vertical-align: middle;\n",
       "    }\n",
       "\n",
       "    .dataframe tbody tr th {\n",
       "        vertical-align: top;\n",
       "    }\n",
       "\n",
       "    .dataframe thead th {\n",
       "        text-align: right;\n",
       "    }\n",
       "</style>\n",
       "<table border=\"1\" class=\"dataframe\">\n",
       "  <thead>\n",
       "    <tr style=\"text-align: right;\">\n",
       "      <th></th>\n",
       "      <th>rutube_video_id</th>\n",
       "      <th>title</th>\n",
       "      <th>category</th>\n",
       "      <th>duration</th>\n",
       "      <th>author_id</th>\n",
       "      <th>view_count</th>\n",
       "      <th>average_age</th>\n",
       "      <th>mode_age</th>\n",
       "      <th>male_percentage</th>\n",
       "      <th>female_percentage</th>\n",
       "      <th>class_0_percentage</th>\n",
       "      <th>class_1_percentage</th>\n",
       "      <th>class_2_percentage</th>\n",
       "      <th>class_3_percentage</th>\n",
       "      <th>total_users_used</th>\n",
       "      <th>embeddings</th>\n",
       "    </tr>\n",
       "  </thead>\n",
       "  <tbody>\n",
       "    <tr>\n",
       "      <th>0</th>\n",
       "      <td>video_96775</td>\n",
       "      <td>Новая Битва экстрасенсов, 24 сезон, 11 выпуск</td>\n",
       "      <td>Телепередачи</td>\n",
       "      <td>5518280</td>\n",
       "      <td>1009257</td>\n",
       "      <td>107378</td>\n",
       "      <td>31.47</td>\n",
       "      <td>24.0</td>\n",
       "      <td>15.50</td>\n",
       "      <td>84.50</td>\n",
       "      <td>6.00</td>\n",
       "      <td>42.81</td>\n",
       "      <td>36.84</td>\n",
       "      <td>14.35</td>\n",
       "      <td>23700.0</td>\n",
       "      <td>[0.06221436709165573, -0.3273929953575134, 0.2...</td>\n",
       "    </tr>\n",
       "    <tr>\n",
       "      <th>1</th>\n",
       "      <td>video_54649</td>\n",
       "      <td>Новая Битва экстрасенсов, 24 сезон, 13 выпуск</td>\n",
       "      <td>Телепередачи</td>\n",
       "      <td>5642240</td>\n",
       "      <td>1009257</td>\n",
       "      <td>104141</td>\n",
       "      <td>31.66</td>\n",
       "      <td>24.0</td>\n",
       "      <td>15.94</td>\n",
       "      <td>84.06</td>\n",
       "      <td>5.64</td>\n",
       "      <td>42.41</td>\n",
       "      <td>37.23</td>\n",
       "      <td>14.72</td>\n",
       "      <td>23255.0</td>\n",
       "      <td>[-0.15979868173599243, -0.4690707325935364, 0....</td>\n",
       "    </tr>\n",
       "    <tr>\n",
       "      <th>2</th>\n",
       "      <td>video_211211</td>\n",
       "      <td>Новая Битва экстрасенсов, 24 сезон, 12 выпуск</td>\n",
       "      <td>Телепередачи</td>\n",
       "      <td>5450640</td>\n",
       "      <td>1009257</td>\n",
       "      <td>103911</td>\n",
       "      <td>31.59</td>\n",
       "      <td>24.0</td>\n",
       "      <td>15.87</td>\n",
       "      <td>84.13</td>\n",
       "      <td>5.68</td>\n",
       "      <td>42.84</td>\n",
       "      <td>36.87</td>\n",
       "      <td>14.61</td>\n",
       "      <td>23070.0</td>\n",
       "      <td>[0.050529394298791885, -0.45317909121513367, 0...</td>\n",
       "    </tr>\n",
       "    <tr>\n",
       "      <th>3</th>\n",
       "      <td>video_316010</td>\n",
       "      <td>Новая Битва экстрасенсов, 24 сезон, 14 выпуск....</td>\n",
       "      <td>Телепередачи</td>\n",
       "      <td>5917000</td>\n",
       "      <td>1009257</td>\n",
       "      <td>64885</td>\n",
       "      <td>31.86</td>\n",
       "      <td>24.0</td>\n",
       "      <td>16.10</td>\n",
       "      <td>83.90</td>\n",
       "      <td>5.07</td>\n",
       "      <td>41.65</td>\n",
       "      <td>38.24</td>\n",
       "      <td>15.04</td>\n",
       "      <td>14627.0</td>\n",
       "      <td>[-0.3305223882198334, -0.5321187376976013, 0.2...</td>\n",
       "    </tr>\n",
       "    <tr>\n",
       "      <th>4</th>\n",
       "      <td>video_115806</td>\n",
       "      <td>Выжить в Дубае. Возвращение, 1 выпуск</td>\n",
       "      <td>Телепередачи</td>\n",
       "      <td>6743000</td>\n",
       "      <td>1009257</td>\n",
       "      <td>61151</td>\n",
       "      <td>32.13</td>\n",
       "      <td>24.0</td>\n",
       "      <td>22.20</td>\n",
       "      <td>77.80</td>\n",
       "      <td>2.25</td>\n",
       "      <td>42.80</td>\n",
       "      <td>42.09</td>\n",
       "      <td>12.86</td>\n",
       "      <td>18853.0</td>\n",
       "      <td>[-0.5561398267745972, 0.294213205575943, -0.12...</td>\n",
       "    </tr>\n",
       "  </tbody>\n",
       "</table>\n",
       "</div>"
      ],
      "text/plain": [
       "  rutube_video_id  ...                                         embeddings\n",
       "0     video_96775  ...  [0.06221436709165573, -0.3273929953575134, 0.2...\n",
       "1     video_54649  ...  [-0.15979868173599243, -0.4690707325935364, 0....\n",
       "2    video_211211  ...  [0.050529394298791885, -0.45317909121513367, 0...\n",
       "3    video_316010  ...  [-0.3305223882198334, -0.5321187376976013, 0.2...\n",
       "4    video_115806  ...  [-0.5561398267745972, 0.294213205575943, -0.12...\n",
       "\n",
       "[5 rows x 16 columns]"
      ]
     },
     "execution_count": 34,
     "metadata": {},
     "output_type": "execute_result"
    }
   ],
   "source": [
    "df.head()"
   ]
  },
  {
   "cell_type": "code",
   "execution_count": null,
   "id": "8c596d10-3808-476e-a48d-9e79320fc77e",
   "metadata": {},
   "outputs": [],
   "source": [
    "#df.to_csv('video_info.csv')"
   ]
  },
  {
   "cell_type": "markdown",
   "id": "33fc1f1e-b3bb-4ec4-9b9e-ed4f61398a4d",
   "metadata": {},
   "source": [
    "### Решаем проблему с пропусками"
   ]
  },
  {
   "cell_type": "code",
   "execution_count": 39,
   "id": "1464c301-3a01-484f-94e5-c17eb18dfb50",
   "metadata": {
    "execution": {
     "iopub.execute_input": "2024-09-29T00:37:15.821520Z",
     "iopub.status.busy": "2024-09-29T00:37:15.820459Z",
     "iopub.status.idle": "2024-09-29T00:37:16.124258Z",
     "shell.execute_reply": "2024-09-29T00:37:16.123659Z",
     "shell.execute_reply.started": "2024-09-29T00:37:15.821488Z"
    }
   },
   "outputs": [
    {
     "data": {
      "text/plain": [
       "(228119, 16)"
      ]
     },
     "execution_count": 39,
     "metadata": {},
     "output_type": "execute_result"
    }
   ],
   "source": [
    "df[df.isnull().any(axis=1)].shape"
   ]
  },
  {
   "cell_type": "code",
   "execution_count": 73,
   "id": "0c4231c7-af4b-40f5-859b-7aeea92e3dc3",
   "metadata": {
    "execution": {
     "iopub.execute_input": "2024-09-29T00:56:05.179322Z",
     "iopub.status.busy": "2024-09-29T00:56:05.178339Z",
     "iopub.status.idle": "2024-09-29T01:29:00.458259Z",
     "shell.execute_reply": "2024-09-29T01:29:00.457180Z",
     "shell.execute_reply.started": "2024-09-29T00:56:05.179292Z"
    },
    "tags": []
   },
   "outputs": [],
   "source": [
    "k = 100  # минимальное количество посмотревших пользователей для учета видео\n",
    "\n",
    "# Предварительная фильтрация видео с достаточным количеством пользователей\n",
    "filtered_df = df[df['total_users_used'] > k]\n",
    "\n",
    "# Перебор видео с пропусками\n",
    "for index, row in df[df.isnull().any(axis=1)].iterrows():\n",
    "    # Фильтрация исходного видео из выборки\n",
    "    filtered_indices = filtered_df[filtered_df.index != index].index\n",
    "    \n",
    "    # Вычисление косинусного сходства только с отфильтрованными видео\n",
    "    if len(filtered_indices) > 0:\n",
    "        similarities = cosine_similarity([row['embeddings']], filtered_df.loc[filtered_indices, 'embeddings'].tolist())[0]\n",
    "        \n",
    "        # Получение индекса самого похожего видео\n",
    "        best_match_index = filtered_indices[np.argmax(similarities)]\n",
    "        \n",
    "        # Заполнение пропусков значениями из самого релевантного видео\n",
    "        df.loc[index, ['average_age', 'mode_age', 'male_percentage',\n",
    "                       'female_percentage', 'class_0_percentage', 'class_1_percentage',\n",
    "                       'class_2_percentage', 'class_3_percentage']] = df.loc[best_match_index, \n",
    "                       ['average_age', 'mode_age', 'male_percentage', \n",
    "                        'female_percentage', 'class_0_percentage', 'class_1_percentage',\n",
    "                        'class_2_percentage', 'class_3_percentage']]"
   ]
  },
  {
   "cell_type": "markdown",
   "id": "b1ea4191-497f-40ec-8047-7379390601bb",
   "metadata": {},
   "source": [
    "## Сохраняем итоговый датасет"
   ]
  },
  {
   "cell_type": "code",
   "execution_count": 74,
   "id": "e146dc3f-48ec-4064-9fed-867d61e8a3a5",
   "metadata": {
    "execution": {
     "iopub.execute_input": "2024-09-29T01:35:16.279600Z",
     "iopub.status.busy": "2024-09-29T01:35:16.278810Z",
     "iopub.status.idle": "2024-09-29T01:43:30.534903Z",
     "shell.execute_reply": "2024-09-29T01:43:30.533784Z",
     "shell.execute_reply.started": "2024-09-29T01:35:16.279568Z"
    },
    "tags": []
   },
   "outputs": [],
   "source": [
    "df.to_csv('video_info.csv')"
   ]
  }
 ],
 "metadata": {
  "kernelspec": {
   "display_name": "DataSphere Kernel",
   "language": "python",
   "name": "python3"
  },
  "language_info": {
   "codemirror_mode": {
    "name": "ipython",
    "version": 3
   },
   "file_extension": ".py",
   "mimetype": "text/x-python",
   "name": "python",
   "nbconvert_exporter": "python",
   "pygments_lexer": "ipython3",
   "version": "3.10.12"
  }
 },
 "nbformat": 4,
 "nbformat_minor": 5
}
